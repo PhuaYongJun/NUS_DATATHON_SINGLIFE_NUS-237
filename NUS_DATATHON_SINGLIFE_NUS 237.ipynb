{
 "cells": [
  {
   "cell_type": "code",
   "execution_count": null,
   "metadata": {},
   "outputs": [],
   "source": [
    "import pandas as pd\n",
    "df = pd.read_parquet(\"/Users/yongjun/Documents/School/Y2S2/datathon/catB_train.parquet\")"
   ]
  },
  {
   "cell_type": "code",
   "execution_count": null,
   "metadata": {},
   "outputs": [],
   "source": [
    "# Check for missing values in each column\n",
    "missing_values = df.isnull().sum()\n",
    "\n",
    "# Percentage of missing values in each column\n",
    "missing_percentage = (missing_values / len(df)) * 100\n",
    "\n",
    "# Display columns with a high percentage of missing values\n",
    "columns_with_all_missing = missing_percentage[missing_percentage == 100].index\n",
    "\n",
    "# Dropping columns with no values\n",
    "df = df.drop(columns=columns_with_all_missing)\n",
    "columns_with_high_missing = missing_percentage[missing_percentage > 50].index\n"
   ]
  },
  {
   "cell_type": "code",
   "execution_count": null,
   "metadata": {},
   "outputs": [],
   "source": [
    "from sklearn.impute import KNNImputer\n",
    "\n",
    "# Create a KNN imputer with the desired number of neighbors (n_neighbors)\n",
    "knn_imputer = KNNImputer(n_neighbors=5)\n",
    "df[columns_with_high_missing] = knn_imputer.fit_transform(df[columns_with_high_missing])\n"
   ]
  },
  {
   "cell_type": "code",
   "execution_count": null,
   "metadata": {},
   "outputs": [],
   "source": [
    "# Calculating class ratios of each column \n",
    "\n",
    "target_column = 'stat_flag'\n",
    "\n",
    "for col in df.columns:\n",
    "    if col != target_column and df[col].dtype == 'object': \n",
    "        # Calculate class ratios\n",
    "        class_ratios = df.groupby([col, target_column]).size().unstack(fill_value=0)\n",
    "        class_ratios = class_ratios.div(class_ratios.sum(axis=1), axis=0)\n",
    "\n"
   ]
  },
  {
   "cell_type": "code",
   "execution_count": null,
   "metadata": {},
   "outputs": [],
   "source": [
    "# Calculating class ratios of each column \n",
    "target_column = 'stat_flag'\n",
    "\n",
    "df = df.astype('category')\n",
    "\n",
    "from sklearn.preprocessing import OneHotEncoder\n",
    "from imblearn.over_sampling import SMOTE\n",
    "\n",
    "# Encode categorical variables\n",
    "categorical_columns = df.select_dtypes(include=['object']).columns\n",
    "encoder = OneHotEncoder()\n",
    "df_encoded = pd.DataFrame(encoder.fit_transform(df[categorical_columns].astype(str)).toarray(), columns=encoder.get_feature_names_out(categorical_columns))\n",
    "\n",
    "# Drop the original categorical columns and concatenate the encoded ones\n",
    "df = pd.concat([df.drop(columns=categorical_columns), df_encoded], axis=1)\n"
   ]
  },
  {
   "cell_type": "code",
   "execution_count": null,
   "metadata": {},
   "outputs": [],
   "source": [
    "from imblearn.over_sampling import SMOTE\n",
    "\n",
    "target_column = 'stat_flag'\n",
    "\n",
    "# Check class ratios for the target column\n",
    "class_ratios = df[target_column].value_counts(normalize=True)\n",
    "print(\"Class Ratios:\")\n",
    "print(class_ratios)\n",
    "\n",
    "# Smoting?\n",
    "if class_ratios.min() < 0.1:\n",
    "    minority_class = class_ratios.idxmin()\n",
    "    minority_samples = df[df[target_column] == minority_class].drop(target_column, axis=1)\n",
    "\n",
    "    smote = SMOTE(random_state=42)\n",
    "    minority_samples_resampled, _ = smote.fit_resample(minority_samples, df[df[target_column] == minority_class][target_column])\n",
    "    df.loc[df[target_column] == minority_class, minority_samples.columns] = minority_samples_resampled\n",
    "\n",
    "from sklearn.model_selection import train_test_split\n",
    "from sklearn.tree import DecisionTreeClassifier\n",
    "from sklearn.metrics import accuracy_score, classification_report\n",
    "\n",
    "x1 = df_encoded.drop(target_column, axis=1)\n",
    "y1 = df_encoded[target_column]\n",
    "x1_train, x1_test, y1_train, y1_test = train_test_split(x1, y1, test_size=0.2, random_state=42)\n",
    "\n",
    "# Creating Decision Tree\n",
    "decision_tree_model = DecisionTreeClassifier(random_state=42)\n",
    "decision_tree_model.fit(x1_train, y1_train)\n",
    "y1_pred = decision_tree_model.predict(x1_test)\n",
    "\n",
    "# Evaluate the model\n",
    "accuracy = accuracy_score(y1_test, y1_pred)\n",
    "print(accuracy)\n",
    "\n",
    "print(classification_report(y_test, y_pred))\n"
   ]
  }
 ],
 "metadata": {
  "kernelspec": {
   "display_name": "Python 3",
   "language": "python",
   "name": "python3"
  },
  "language_info": {
   "codemirror_mode": {
    "name": "ipython",
    "version": 3
   },
   "file_extension": ".py",
   "mimetype": "text/x-python",
   "name": "python",
   "nbconvert_exporter": "python",
   "pygments_lexer": "ipython3",
   "version": "3.11.1"
  }
 },
 "nbformat": 4,
 "nbformat_minor": 2
}
